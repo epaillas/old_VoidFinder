{
 "cells": [
  {
   "cell_type": "code",
   "execution_count": 11,
   "metadata": {},
   "outputs": [
    {
     "name": "stdout",
     "output_type": "stream",
     "text": [
      "(1, 900, 7)\n"
     ]
    },
    {
     "name": "stderr",
     "output_type": "stream",
     "text": [
      "/Users/epaillas/code/void_finder/python_tools/mockstatistics.py:209: RuntimeWarning: invalid value encountered in true_divide\n",
      "  cov /= nobs - 1\n",
      "/Users/epaillas/code/void_finder/python_tools/mockstatistics.py:235: RuntimeWarning: invalid value encountered in true_divide\n",
      "  cov /= nobs - 1\n"
     ]
    },
    {
     "data": {
      "image/png": "[encoded data removed]",
      "text/plain": [
       "<Figure size 432x288 with 1 Axes>"
      ]
     },
     "metadata": {
      "needs_background": "light"
     },
     "output_type": "display_data"
    },
    {
     "name": "stdout",
     "output_type": "stream",
     "text": [
      "Fiducial beta: 0.354\n"
     ]
    }
   ],
   "source": [
    "from python_tools.mockstatistics import MockStatistics\n",
    "import numpy as np\n",
    "import matplotlib.pyplot as plt\n",
    "#import emcee\n",
    "#import corner\n",
    "%matplotlib inline\n",
    "\n",
    "def log_likelihood(theta, x, y, cov):\n",
    "    beta = theta\n",
    "    G = 2 * beta / (3 + beta)\n",
    "    model = G * x\n",
    "    # cov_dxi0, cov_xi2, cov_xi02, cov_xi20 = cov\n",
    "    # cov_full = cov_xi2 + G**2 * cov_dxi0 - G*cov_xi02 - G*cov_xi20\n",
    "    icov = np.linalg.inv(cov)\n",
    "    chi2 = np.dot(np.dot((y - model), icov), y - model)\n",
    "    loglike = -1/2 * chi2 - np.log((2*np.pi)**(len(cov)/2)) * np.sum(np.linalg.eig(cov)[0])\n",
    "    return loglike\n",
    "\n",
    "def log_prior(theta):\n",
    "    beta = theta\n",
    "    if 0.1 < beta < 0.7:\n",
    "        return 0.0\n",
    "    else:\n",
    "        return -np.inf\n",
    "\n",
    "def log_probability(theta, x, y, cov):\n",
    "    lp = log_prior(theta)\n",
    "    if not np.isfinite(lp):\n",
    "        return -np.inf\n",
    "    return lp + log_likelihood(theta, x, y, cov)\n",
    "\n",
    "\n",
    "\n",
    "handle = '/Users/epaillas/data/eboss/EZmock_eBOSS_LRG_NGC_v5_0001_Om307.SVF_recen_vf0.9_ovl0.5_sky_postOm307.VG_CCF_rmu'\n",
    "mocks = MockStatistics(handle)\n",
    "\n",
    "epsilon = 1.0\n",
    "\n",
    "s, xi0 = mocks.getMonopole(epsilon=epsilon)\n",
    "s, xi2 = mocks.getQuadrupole(epsilon=epsilon)\n",
    "s, xiav = mocks.getAverageMonopole(epsilon=epsilon)\n",
    "s, dxi0 = mocks.getDiffMonopole(epsilon=epsilon)\n",
    "\n",
    "cov_xi0 = mocks.getCovarianceMatrix(xi0)\n",
    "cov_xi2 = mocks.getCovarianceMatrix(xi2)\n",
    "cov_xiav = mocks.getCovarianceMatrix(xiav)\n",
    "cov_dxi0 = mocks.getCovarianceMatrix(dxi0)\n",
    "cov_xi02 = mocks.getCrossCovarianceMatrix(xi0, xi2)\n",
    "cov_xi20 = mocks.getCrossCovarianceMatrix(xi2, xi0)\n",
    "\n",
    "mean_xi0 = xi0.mean(axis=0)\n",
    "mean_dxi0 = dxi0.mean(axis=0)\n",
    "mean_xi2 = xi2.mean(axis=0)\n",
    "\n",
    "# Visualize data for sanity check\n",
    "fig = plt.figure()\n",
    "ax = plt.subplot()\n",
    "\n",
    "ax.plot(s, mean_xi0, label='mono 0.35')\n",
    "ax.plot(s, mean_xi2, label='quad 0.35')\n",
    "\n",
    "ax.legend()\n",
    "plt.show()\n",
    "\n",
    "# Cosmological parameters\n",
    "Om0 = 0.31\n",
    "Ode0 = 1 - Om0\n",
    "bias_LRG = 2.30\n",
    "eff_z_LRG = 0.703\n",
    "f_LRG = ((Om0 * (1 + eff_z_LRG)**3.) / (Om0 * (1 + eff_z_LRG)**3 + Ode0))**0.55\n",
    "fid_beta = f_LRG / bias_LRG\n",
    "fid_G = 2 * fid_beta / (3 + fid_beta)\n",
    "print('Fiducial beta: %0.3f' % fid_beta)\n",
    "\n",
    "cov = cov_xi2 + fid_G**2 * cov_dxi0 - fid_G*cov_xi02 - fid_G*cov_xi20\n",
    "\n"
   ]
  },
  {
   "cell_type": "code",
   "execution_count": 5,
   "metadata": {},
   "outputs": [
    {
     "name": "stderr",
     "output_type": "stream",
     "text": [
      "100%|██████████| 10000/10000 [01:00<00:00, 164.67it/s]\n"
     ]
    }
   ],
   "source": [
    "nwalkers = 32\n",
    "ndim = 1\n",
    "beta_start = fid_beta\n",
    "p0 = beta_start + 1e-4*np.random.randn(nwalkers, 1)\n",
    "\n",
    "niter = 10000\n",
    "data = (mean_dxi0, mean_xi2, cov)\n",
    "\n",
    "sampler = emcee.EnsembleSampler(nwalkers, ndim, log_probability, args=data)\n",
    "sampler.run_mcmc(p0, niter, progress=True);\n",
    "\n",
    "\n",
    "tau = sampler.get_autocorr_time()\n",
    "flat_samples = sampler.get_chain(discard=100, thin=15, flat=True)\n",
    "\n",
    "\n",
    "# fig = plt.figure()\n",
    "# ax = plt.subplot()\n",
    "\n",
    "# bins = mocks.bins\n",
    "# xi2 = mocks.quadrupole\n",
    "# err = np.diag(mocks.quadrupole_cov)\n",
    "\n",
    "# ax.errorbar(bins, np.mean(xi2, axis=0), np.sqrt(err))\n",
    "\n",
    "# plt.show()\n"
   ]
  },
  {
   "cell_type": "code",
   "execution_count": 3,
   "metadata": {},
   "outputs": [
    {
     "data": {
      "image/png": "[encoded data removed]",
      "text/plain": [
       "<Figure size 244.8x244.8 with 1 Axes>"
      ]
     },
     "metadata": {
      "needs_background": "light"
     },
     "output_type": "display_data"
    }
   ],
   "source": [
    "fig = corner.corner(flat_samples, labels=[r'$\\beta$'],\n",
    "                    truths=[fid_beta], show_titles=True)\n"
   ]
  }
 ],
 "metadata": {
  "kernelspec": {
   "display_name": "Python 3",
   "language": "python",
   "name": "python3"
  },
  "language_info": {
   "codemirror_mode": {
    "name": "ipython",
    "version": 3
   },
   "file_extension": ".py",
   "mimetype": "text/x-python",
   "name": "python",
   "nbconvert_exporter": "python",
   "pygments_lexer": "ipython3",
   "version": "3.7.3"
  }
 },
 "nbformat": 4,
 "nbformat_minor": 2
}
